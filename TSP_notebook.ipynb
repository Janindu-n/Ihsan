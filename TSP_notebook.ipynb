{
 "cells": [
  {
   "cell_type": "markdown",
   "metadata": {},
   "source": [
    "# Traveling Salesman Problem"
   ]
  },
  {
   "cell_type": "code",
   "execution_count": 1,
   "metadata": {
    "tags": []
   },
   "outputs": [
    {
     "name": "stderr",
     "output_type": "stream",
     "text": [
      "/opt/conda/lib/python3.10/site-packages/pandas/core/computation/expressions.py:21: UserWarning: Pandas requires version '2.8.4' or newer of 'numexpr' (version '2.8.3' currently installed).\n",
      "  from pandas.core.computation.check import NUMEXPR_INSTALLED\n",
      "/opt/conda/lib/python3.10/site-packages/pandas/core/arrays/masked.py:60: UserWarning: Pandas requires version '1.3.6' or newer of 'bottleneck' (version '1.3.5' currently installed).\n",
      "  from pandas.core import (\n"
     ]
    }
   ],
   "source": [
    "# useful additional packages\n",
    "import matplotlib.pyplot as plt\n",
    "import numpy as np\n",
    "import networkx as nx\n",
    "\n",
    "from qiskit.circuit.library import TwoLocal\n",
    "from qiskit_optimization.applications import Maxcut, Tsp\n",
    "from qiskit_algorithms import SamplingVQE, NumPyMinimumEigensolver\n",
    "from qiskit_algorithms.optimizers import SPSA\n",
    "from qiskit_algorithms.utils import algorithm_globals\n",
    "from qiskit.primitives import Sampler\n",
    "from qiskit_optimization.algorithms import MinimumEigenOptimizer"
   ]
  },
  {
   "cell_type": "code",
   "execution_count": 24,
   "metadata": {
    "tags": []
   },
   "outputs": [
    {
     "data": {
      "image/png": "[encoded data removed]",
      "text/plain": [
       "<Figure size 640x480 with 1 Axes>"
      ]
     },
     "metadata": {},
     "output_type": "display_data"
    }
   ],
   "source": [
    "import numpy as np\n",
    "import networkx as nx\n",
    "import matplotlib.pyplot as plt\n",
    "\n",
    "grid = [[0.5,0.98],\n",
    "        [0.24,0.75]]\n",
    "\n",
    "# Define the number of nodes\n",
    "num_nodes = len(grid) * len(grid[0])\n",
    "\n",
    "# Initialize an empty adjacency matrix\n",
    "w = np.zeros((num_nodes, num_nodes))\n",
    "\n",
    "# Manually set the connections based on the specification\n",
    "# Connect node 0 with node 1\n",
    "w[0, 1] = grid[0][1]  # Using grid values for weights\n",
    "w[1, 0] = grid[0][0]\n",
    "w[0, 2] = grid[1][1]\n",
    "\n",
    "# Connect node 1 with node 2\n",
    "w[1, 2] = grid[1][0]\n",
    "w[2, 1] = grid[0][1]\n",
    "\n",
    "# Node 3 remains separate, so no connections are set for it\n",
    "\n",
    "# Create a graph from the adjacency matrix\n",
    "G = nx.from_numpy_array(w)\n",
    "\n",
    "# Function to draw the graph\n",
    "def draw_graph(graph):\n",
    "    pos = nx.spring_layout(graph)  # positions for all nodes\n",
    "    nx.draw(graph, pos, with_labels=True, node_color='skyblue', node_size=500)\n",
    "    labels = nx.get_edge_attributes(graph, 'weight')\n",
    "    nx.draw_networkx_edge_labels(graph, pos, edge_labels=labels)\n",
    "    plt.title(\"Graph with 3 Connected Nodes and 1 Separate Node\")\n",
    "    plt.show()\n",
    "\n",
    "# Draw the graph\n",
    "draw_graph(G)"
   ]
  },
  {
   "cell_type": "code",
   "execution_count": 3,
   "metadata": {},
   "outputs": [
    {
     "name": "stdout",
     "output_type": "stream",
     "text": [
      "[[0. 1. 1. 1.]\n",
      " [1. 0. 1. 0.]\n",
      " [1. 1. 0. 1.]\n",
      " [1. 0. 1. 0.]]\n"
     ]
    }
   ],
   "source": [
    "# Computing the weight matrix from the random graph\n",
    "w = np.zeros([n, n])\n",
    "for i in range(n):\n",
    "    for j in range(n):\n",
    "        temp = G.get_edge_data(i, j, default=0)\n",
    "        if temp != 0:\n",
    "            w[i, j] = temp[\"weight\"]\n",
    "print(w)"
   ]
  },
  {
   "cell_type": "markdown",
   "metadata": {},
   "source": [
    "### Mapping to the Ising problem"
   ]
  },
  {
   "cell_type": "markdown",
   "metadata": {},
   "source": [
    "Qiskit optimization provides functionality to generate `QuadraticProgram` from the problem specification as well as create the corresponding Ising Hamiltonian.\n"
   ]
  },
  {
   "cell_type": "code",
   "execution_count": 5,
   "metadata": {},
   "outputs": [
    {
     "name": "stdout",
     "output_type": "stream",
     "text": [
      "Problem name: Max-cut\n",
      "\n",
      "Maximize\n",
      "  -2*x_0*x_1 - 2*x_0*x_2 - 2*x_0*x_3 - 2*x_1*x_2 - 2*x_2*x_3 + 3*x_0 + 2*x_1\n",
      "  + 3*x_2 + 2*x_3\n",
      "\n",
      "Subject to\n",
      "  No constraints\n",
      "\n",
      "  Binary variables (4)\n",
      "    x_0 x_1 x_2 x_3\n",
      "\n"
     ]
    }
   ],
   "source": [
    "max_cut = Maxcut(w)\n",
    "qp = max_cut.to_quadratic_program()\n",
    "print(qp.prettyprint())"
   ]
  },
  {
   "cell_type": "markdown",
   "metadata": {},
   "source": [
    "Since the problem was cast to a minimization problem, the solution of $-4$ corresponds to the optimum."
   ]
  },
  {
   "cell_type": "markdown",
   "metadata": {},
   "source": [
    "## Traveling Salesman Problem\n",
    "\n",
    "In addition to being a notorious NP-complete problem that has drawn the attention of computer scientists and mathematicians for over two centuries, the Traveling Salesman Problem (TSP) has important bearings on finance and marketing, as its name suggests. Colloquially speaking, the traveling salesman is a person that goes from city to city to sell merchandise. The objective in this case is to find the shortest path that would enable the salesman to visit all the cities and return to its hometown, i.e. the city where he started traveling. By doing this, the salesman gets to maximize potential sales in the least amount of time. \n",
    "\n",
    "The problem derives its importance from its \"hardness\" and ubiquitous equivalence to other relevant combinatorial optimization problems that arise in practice.\n",
    " \n",
    "The mathematical formulation with some early analysis was proposed by W.R. Hamilton in the early 19th century. Mathematically the problem is, as in the case of Max-Cut, best abstracted in terms of graphs. The TSP on the nodes of a graph asks for the shortest *Hamiltonian cycle* that can be taken through each of the nodes. A Hamilton cycle is a closed path that uses every vertex of a graph once. The general solution is unknown and an algorithm that finds it efficiently (e.g., in polynomial time) is not expected to exist.\n",
    "\n",
    "Find the shortest Hamiltonian cycle in a graph $G=(V,E)$ with $n=|V|$ nodes and distances, $w_{ij}$ (distance from vertex $i$ to vertex $j$). A Hamiltonian cycle is described by $N^2$ variables $x_{i,p}$, where $i$ represents the node and $p$ represents its order in a prospective cycle. The decision variable takes the value 1 if the solution occurs at node $i$ at time order $p$. We require that every node can only appear once in the cycle, and for each time a node has to occur. This amounts to the two constraints (here and in the following, whenever not specified, the summands run over 0,1,...N-1)\n",
    "\n",
    "$$\\sum_{i} x_{i,p} = 1 ~~\\forall p$$\n",
    "$$\\sum_{p} x_{i,p} = 1 ~~\\forall i.$$\n",
    "\n",
    "For nodes in our prospective ordering, if $x_{i,p}$ and $x_{j,p+1}$ are both 1, then there should be an energy penalty if $(i,j) \\notin E$ (not connected in the graph). The form of this penalty is \n",
    "\n",
    "$$\\sum_{i,j\\notin E}\\sum_{p} x_{i,p}x_{j,p+1}>0,$$ \n",
    "\n",
    "where it is assumed the boundary condition of the Hamiltonian cycles $(p=N)\\equiv (p=0)$. However, here it will be assumed a fully connected graph and not include this term. The distance that needs to be minimized is \n",
    "\n",
    "$$C(\\textbf{x})=\\sum_{i,j}w_{ij}\\sum_{p} x_{i,p}x_{j,p+1}.$$\n",
    "\n",
    "Putting this all together in a single objective function to be minimized, we get the following:\n",
    "\n",
    "$$C(\\textbf{x})=\\sum_{i,j}w_{ij}\\sum_{p} x_{i,p}x_{j,p+1}+ A\\sum_p\\left(1- \\sum_i x_{i,p}\\right)^2+A\\sum_i\\left(1- \\sum_p x_{i,p}\\right)^2,$$\n",
    "\n",
    "where $A$ is a free parameter. One needs to ensure that $A$ is large enough so that these constraints are respected. One way to do this is to choose $A$ such that $A > \\mathrm{max}(w_{ij})$.\n",
    "\n",
    "Once again, it is easy to map the problem in this form to a quantum computer, and the solution will be found by minimizing a Ising Hamiltonian. "
   ]
  },
  {
   "cell_type": "code",
   "execution_count": 11,
   "metadata": {
    "tags": []
   },
   "outputs": [
    {
     "name": "stdout",
     "output_type": "stream",
     "text": [
      "Distance matrix:\n",
      " [[0. 9. 8.]\n",
      " [9. 0. 5.]\n",
      " [8. 5. 0.]]\n"
     ]
    }
   ],
   "source": [
    "# Generating a graph of 3 nodes\n",
    "import numpy as np\n",
    "import networkx as nx\n",
    "import matplotlib.pyplot as plt\n",
    "from random import seed, randint\n",
    "\n",
    "# Function to generate a random TSP graph\n",
    "def random_tsp():\n",
    "    #seed(seed_value)\n",
    "    G = nx.Graph()\n",
    "    for i in range(n):\n",
    "        for j in range(i + 1, n):\n",
    "            # Random weight between 1 and 10\n",
    "            weight = randint(1, 10)\n",
    "            G.add_edge(i, j, weight=weight)\n",
    "    return G\n",
    "\n",
    "# Generate a TSP instance with 3 nodes\n",
    "n = 3\n",
    "tsp_graph = random_tsp()\n",
    "\n",
    "# Create adjacency matrix\n",
    "adj_matrix = nx.to_numpy_array(tsp_graph)\n",
    "print(\"Distance matrix:\\n\", adj_matrix)"
   ]
  },
  {
   "cell_type": "code",
   "execution_count": 19,
   "metadata": {
    "tags": []
   },
   "outputs": [
    {
     "name": "stdout",
     "output_type": "stream",
     "text": [
      "Traceback \u001b[1;36m(most recent call last)\u001b[0m:\n",
      "\u001b[0m  Cell \u001b[0;32mIn[19], line 8\u001b[0m\n",
      "    draw_graph(G, colors, pos)\u001b[0m\n",
      "\u001b[0m  Cell \u001b[0;32mIn[19], line 3\u001b[0m in \u001b[0;35mdraw_graph\u001b[0m\n",
      "    nx.draw_networkx(G, node_color=colors, node_size=600, alpha=0.8, ax=default_axes, pos=pos)\u001b[0m\n",
      "\u001b[0m  File \u001b[0;32m/opt/conda/lib/python3.10/site-packages/networkx/drawing/nx_pylab.py:304\u001b[0m in \u001b[0;35mdraw_networkx\u001b[0m\n",
      "    draw_networkx_nodes(G, pos, **node_kwds)\u001b[0m\n",
      "\u001b[0m  File \u001b[0;32m/opt/conda/lib/python3.10/site-packages/networkx/drawing/nx_pylab.py:429\u001b[0m in \u001b[0;35mdraw_networkx_nodes\u001b[0m\n",
      "    xy = np.asarray([pos[v] for v in nodelist])\u001b[0m\n",
      "\u001b[1;36m  File \u001b[1;32m/opt/conda/lib/python3.10/site-packages/networkx/drawing/nx_pylab.py:429\u001b[1;36m in \u001b[1;35m<listcomp>\u001b[1;36m\n",
      "\u001b[1;33m    xy = np.asarray([pos[v] for v in nodelist])\u001b[1;36m\n",
      "\u001b[1;31mIndexError\u001b[0m\u001b[1;31m:\u001b[0m list index out of range\n",
      "\n",
      "Use %tb to get the full traceback.\n"
     ]
    },
    {
     "data": {
      "text/html": [
       "\n",
       "<style>\n",
       ".button {\n",
       "  border: none;\n",
       "  color: white;\n",
       "  padding: 4px 8px;\n",
       "  text-align: center;\n",
       "  text-decoration: none;\n",
       "  display: inline-block;\n",
       "  font-size: 12px;\n",
       "  margin: 4px 2px;\n",
       "  transition-duration: 0.2s;\n",
       "  cursor: pointer;\n",
       "}\n",
       ".iqx-button {\n",
       "  background-color: #0f62fe; \n",
       "  color: white; \n",
       "}\n",
       ".iqx-button:hover {\n",
       "  background-color: #0043ce;\n",
       "  color: white;\n",
       "}\n",
       "</style>\n",
       "<a href=\"https://stackoverflow.com/search?q=IndexError: list index out of range\" target='_blank'><button class='button iqx-button'>Search for solution online</button></a>\n"
      ],
      "text/plain": [
       "<IPython.core.display.HTML object>"
      ]
     },
     "metadata": {},
     "output_type": "display_data"
    },
    {
     "data": {
      "image/png": "[encoded data removed]",
      "text/plain": [
       "<Figure size 640x480 with 1 Axes>"
      ]
     },
     "metadata": {},
     "output_type": "display_data"
    }
   ],
   "source": [
    "def draw_graph(G, colors, pos):\n",
    "    default_axes = plt.axes(frameon=True)\n",
    "    nx.draw_networkx(G, node_color=colors, node_size=600, alpha=0.8, ax=default_axes, pos=pos)\n",
    "    edge_labels = nx.get_edge_attributes(G, \"weight\")\n",
    "    nx.draw_networkx_edge_labels(G, pos=pos, edge_labels=edge_labels)\n",
    "\n",
    "\n",
    "draw_graph(G, colors, pos)"
   ]
  },
  {
   "cell_type": "markdown",
   "metadata": {},
   "source": [
    "### Brute force approach"
   ]
  },
  {
   "cell_type": "code",
   "execution_count": 5,
   "metadata": {
    "tags": []
   },
   "outputs": [
    {
     "name": "stdout",
     "output_type": "stream",
     "text": [
      "Traceback \u001b[1;36m(most recent call last)\u001b[0m:\n",
      "\u001b[0m  Cell \u001b[0;32mIn[5], line 22\u001b[0m\n",
      "    best_distance, best_order = brute_force_tsp(G, n)\u001b[0m\n",
      "\u001b[0m  Cell \u001b[0;32mIn[5], line 11\u001b[0m in \u001b[0;35mbrute_force_tsp\u001b[0m\n",
      "    distance = distance + w[j, pre_j]\u001b[0m\n",
      "\u001b[0m  File \u001b[0;32m/opt/conda/lib/python3.10/site-packages/networkx/classes/graph.py:513\u001b[0m in \u001b[0;35m__getitem__\u001b[0m\n",
      "    return self.adj[n]\u001b[0m\n",
      "\u001b[1;36m  File \u001b[1;32m/opt/conda/lib/python3.10/site-packages/networkx/classes/coreviews.py:81\u001b[1;36m in \u001b[1;35m__getitem__\u001b[1;36m\n",
      "\u001b[1;33m    return AtlasView(self._atlas[name])\u001b[1;36m\n",
      "\u001b[1;31mKeyError\u001b[0m\u001b[1;31m:\u001b[0m (1, 0)\n",
      "\n",
      "Use %tb to get the full traceback.\n"
     ]
    },
    {
     "data": {
      "text/html": [
       "\n",
       "<style>\n",
       ".button {\n",
       "  border: none;\n",
       "  color: white;\n",
       "  padding: 4px 8px;\n",
       "  text-align: center;\n",
       "  text-decoration: none;\n",
       "  display: inline-block;\n",
       "  font-size: 12px;\n",
       "  margin: 4px 2px;\n",
       "  transition-duration: 0.2s;\n",
       "  cursor: pointer;\n",
       "}\n",
       ".iqx-button {\n",
       "  background-color: #0f62fe; \n",
       "  color: white; \n",
       "}\n",
       ".iqx-button:hover {\n",
       "  background-color: #0043ce;\n",
       "  color: white;\n",
       "}\n",
       "</style>\n",
       "<a href=\"https://stackoverflow.com/search?q=KeyError: (1, 0)\" target='_blank'><button class='button iqx-button'>Search for solution online</button></a>\n"
      ],
      "text/plain": [
       "<IPython.core.display.HTML object>"
      ]
     },
     "metadata": {},
     "output_type": "display_data"
    }
   ],
   "source": [
    "from itertools import permutations\n",
    "\n",
    "n = 4\n",
    "def brute_force_tsp(w, N):\n",
    "    a = list(permutations(range(1, N)))\n",
    "    last_best_distance = 1e10\n",
    "    for i in a:\n",
    "        distance = 0\n",
    "        pre_j = 0\n",
    "        for j in i:\n",
    "            distance = distance + w[j, pre_j]\n",
    "            pre_j = j\n",
    "        distance = distance + w[pre_j, 0]\n",
    "        order = (0,) + i\n",
    "        if distance < last_best_distance:\n",
    "            best_order = order\n",
    "            last_best_distance = distance\n",
    "            print(\"order = \" + str(order) + \" Distance = \" + str(distance))\n",
    "    return last_best_distance, best_order\n",
    "\n",
    "\n",
    "best_distance, best_order = brute_force_tsp(G, n)\n",
    "print(\n",
    "    \"Best order from brute force = \"\n",
    "    + str(best_order)\n",
    "    + \" with total distance = \"\n",
    "    + str(best_distance)\n",
    ")\n",
    "\n",
    "\n",
    "def draw_tsp_solution(G, order, colors, pos):\n",
    "    G2 = nx.DiGraph()\n",
    "    G2.add_nodes_from(G)\n",
    "    n = len(order)\n",
    "    for i in range(n):\n",
    "        j = (i + 1) % n\n",
    "        G2.add_edge(order[i], order[j], weight=G[order[i]][order[j]][\"weight\"])\n",
    "    default_axes = plt.axes(frameon=True)\n",
    "    nx.draw_networkx(\n",
    "        G2, node_color=colors, edge_color=\"b\", node_size=600, alpha=0.8, ax=default_axes, pos=pos\n",
    "    )\n",
    "    edge_labels = nx.get_edge_attributes(G2, \"weight\")\n",
    "    nx.draw_networkx_edge_labels(G2, pos, font_color=\"b\", edge_labels=edge_labels)\n",
    "\n",
    "\n",
    "draw_tsp_solution(tsp.graph, best_order, colors, pos)"
   ]
  },
  {
   "cell_type": "code",
   "execution_count": 31,
   "metadata": {
    "tags": []
   },
   "outputs": [],
   "source": [
    "def draw_tsp_solution(G, order, colors, pos):\n",
    "    G2 = nx.DiGraph()\n",
    "    G2.add_nodes_from(G)\n",
    "    n = len(order)\n",
    "    for i in range(n):\n",
    "        j = (i + 1) % n\n",
    "        G2.add_edge(order[i], order[j], weight=G[order[i]][order[j]][\"weight\"])\n",
    "    default_axes = plt.axes(frameon=True)\n",
    "    nx.draw_networkx(\n",
    "        G2, node_color=colors, edge_color=\"b\", node_size=600, alpha=0.8, ax=default_axes, pos=pos\n",
    "    )\n",
    "    edge_labels = nx.get_edge_attributes(G2, \"weight\")\n",
    "    nx.draw_networkx_edge_labels(G2, pos, font_color=\"b\", edge_labels=edge_labels)"
   ]
  },
  {
   "cell_type": "markdown",
   "metadata": {},
   "source": [
    "### Mapping to the Ising problem"
   ]
  },
  {
   "cell_type": "code",
   "execution_count": 32,
   "metadata": {
    "tags": []
   },
   "outputs": [
    {
     "name": "stdout",
     "output_type": "stream",
     "text": [
      "Problem name: TSP\n",
      "\n",
      "Minimize\n",
      "  48*x_0_0*x_1_1 + 48*x_0_0*x_1_2 + 91*x_0_0*x_2_1 + 91*x_0_0*x_2_2\n",
      "  + 48*x_0_1*x_1_0 + 48*x_0_1*x_1_2 + 91*x_0_1*x_2_0 + 91*x_0_1*x_2_2\n",
      "  + 48*x_0_2*x_1_0 + 48*x_0_2*x_1_1 + 91*x_0_2*x_2_0 + 91*x_0_2*x_2_1\n",
      "  + 63*x_1_0*x_2_1 + 63*x_1_0*x_2_2 + 63*x_1_1*x_2_0 + 63*x_1_1*x_2_2\n",
      "  + 63*x_1_2*x_2_0 + 63*x_1_2*x_2_1\n",
      "\n",
      "Subject to\n",
      "  Linear constraints (6)\n",
      "    x_0_0 + x_0_1 + x_0_2 == 1  'c0'\n",
      "    x_1_0 + x_1_1 + x_1_2 == 1  'c1'\n",
      "    x_2_0 + x_2_1 + x_2_2 == 1  'c2'\n",
      "    x_0_0 + x_1_0 + x_2_0 == 1  'c3'\n",
      "    x_0_1 + x_1_1 + x_2_1 == 1  'c4'\n",
      "    x_0_2 + x_1_2 + x_2_2 == 1  'c5'\n",
      "\n",
      "  Binary variables (9)\n",
      "    x_0_0 x_0_1 x_0_2 x_1_0 x_1_1 x_1_2 x_2_0 x_2_1 x_2_2\n",
      "\n"
     ]
    }
   ],
   "source": [
    "n = 3\n",
    "tsp = Tsp.create_random_instance(n, seed=123)\n",
    "qp = tsp.to_quadratic_program()\n",
    "print(qp.prettyprint())"
   ]
  },
  {
   "cell_type": "code",
   "execution_count": 33,
   "metadata": {
    "tags": []
   },
   "outputs": [
    {
     "name": "stdout",
     "output_type": "stream",
     "text": [
      "Offset: 7581.0\n",
      "Ising Hamiltonian:\n",
      "SparsePauliOp(['IIIIIIIIZ', 'IIIIIIIZI', 'IIIIIIZII', 'IIIIIZIII', 'IIIIZIIII', 'IIIZIIIII', 'IIZIIIIII', 'IZIIIIIII', 'ZIIIIIIII', 'IIIIIIIZZ', 'IIIIIIZIZ', 'IIIIIZIIZ', 'IIIIZIIIZ', 'IIIZIIIIZ', 'IIZIIIIIZ', 'IZIIIIIIZ', 'ZIIIIIIIZ', 'IIIIIIZZI', 'IIIIIZIZI', 'IIIIZIIZI', 'IIIZIIIZI', 'IIZIIIIZI', 'IZIIIIIZI', 'ZIIIIIIZI', 'IIIIIZZII', 'IIIIZIZII', 'IIIZIIZII', 'IIZIIIZII', 'IZIIIIZII', 'ZIIIIIZII', 'IIIIZZIII', 'IIIZIZIII', 'IIZIIZIII', 'IZIIIZIII', 'ZIIIIZIII', 'IIIZZIIII', 'IIZIZIIII', 'IZIIZIIII', 'ZIIIZIIII', 'IIZZIIIII', 'IZIZIIIII', 'ZIIZIIIII', 'IZZIIIIII', 'ZIZIIIIII', 'ZZIIIIIII'],\n",
      "              coeffs=[-1282.5 +0.j, -1282.5 +0.j, -1282.5 +0.j, -1268.5 +0.j, -1268.5 +0.j,\n",
      " -1268.5 +0.j, -1290.  +0.j, -1290.  +0.j, -1290.  +0.j,   606.5 +0.j,\n",
      "   606.5 +0.j,   606.5 +0.j,    12.  +0.j,    12.  +0.j,   606.5 +0.j,\n",
      "    22.75+0.j,    22.75+0.j,   606.5 +0.j,    12.  +0.j,   606.5 +0.j,\n",
      "    12.  +0.j,    22.75+0.j,   606.5 +0.j,    22.75+0.j,    12.  +0.j,\n",
      "    12.  +0.j,   606.5 +0.j,    22.75+0.j,    22.75+0.j,   606.5 +0.j,\n",
      "   606.5 +0.j,   606.5 +0.j,   606.5 +0.j,    15.75+0.j,    15.75+0.j,\n",
      "   606.5 +0.j,    15.75+0.j,   606.5 +0.j,    15.75+0.j,    15.75+0.j,\n",
      "    15.75+0.j,   606.5 +0.j,   606.5 +0.j,   606.5 +0.j,   606.5 +0.j])\n"
     ]
    }
   ],
   "source": [
    "from qiskit_optimization.converters import QuadraticProgramToQubo\n",
    "\n",
    "qp2qubo = QuadraticProgramToQubo()\n",
    "qubo = qp2qubo.convert(qp)\n",
    "qubitOp, offset = qubo.to_ising()\n",
    "print(\"Offset:\", offset)\n",
    "print(\"Ising Hamiltonian:\")\n",
    "print(str(qubitOp))"
   ]
  },
  {
   "cell_type": "code",
   "execution_count": 34,
   "metadata": {
    "tags": []
   },
   "outputs": [
    {
     "name": "stdout",
     "output_type": "stream",
     "text": [
      "objective function value: 202.0\n",
      "variable values: x_0_0=1.0, x_0_1=0.0, x_0_2=0.0, x_1_0=0.0, x_1_1=1.0, x_1_2=0.0, x_2_0=0.0, x_2_1=0.0, x_2_2=1.0\n",
      "status: SUCCESS\n"
     ]
    }
   ],
   "source": [
    "from qiskit_optimization.converters import QuadraticProgramToQubo\n",
    "exact = MinimumEigenOptimizer(NumPyMinimumEigensolver())\n",
    "qp2qubo = QuadraticProgramToQubo()\n",
    "qubo = qp2qubo.convert(qp)\n",
    "result = exact.solve(qubo)\n",
    "print(result.prettyprint())"
   ]
  },
  {
   "cell_type": "markdown",
   "metadata": {},
   "source": [
    "### Checking that the full Hamiltonian gives the right cost "
   ]
  },
  {
   "cell_type": "code",
   "execution_count": 35,
   "metadata": {
    "tags": []
   },
   "outputs": [
    {
     "name": "stdout",
     "output_type": "stream",
     "text": [
      "energy: -7379.0\n",
      "tsp objective: 202.0\n",
      "feasible: True\n",
      "solution: [0, 1, 2]\n",
      "Traceback \u001b[1;36m(most recent call last)\u001b[0m:\n",
      "\u001b[0m  Cell \u001b[0;32mIn[35], line 11\u001b[0m\n",
      "    print(\"solution objective:\", tsp.tsp_value(z, G))\u001b[0m\n",
      "\u001b[0m  File \u001b[0;32m/opt/conda/lib/python3.10/site-packages/qiskit_optimization/applications/tsp.py:214\u001b[0m in \u001b[0;35mtsp_value\u001b[0m\n",
      "    ret += adj_matrix[z[i], z[i + 1]]\u001b[0m\n",
      "\u001b[0m  File \u001b[0;32m/opt/conda/lib/python3.10/site-packages/networkx/classes/graph.py:513\u001b[0m in \u001b[0;35m__getitem__\u001b[0m\n",
      "    return self.adj[n]\u001b[0m\n",
      "\u001b[1;36m  File \u001b[1;32m/opt/conda/lib/python3.10/site-packages/networkx/classes/coreviews.py:81\u001b[1;36m in \u001b[1;35m__getitem__\u001b[1;36m\n",
      "\u001b[1;33m    return AtlasView(self._atlas[name])\u001b[1;36m\n",
      "\u001b[1;31mKeyError\u001b[0m\u001b[1;31m:\u001b[0m (0, 1)\n",
      "\n",
      "Use %tb to get the full traceback.\n"
     ]
    },
    {
     "data": {
      "text/html": [
       "\n",
       "<style>\n",
       ".button {\n",
       "  border: none;\n",
       "  color: white;\n",
       "  padding: 4px 8px;\n",
       "  text-align: center;\n",
       "  text-decoration: none;\n",
       "  display: inline-block;\n",
       "  font-size: 12px;\n",
       "  margin: 4px 2px;\n",
       "  transition-duration: 0.2s;\n",
       "  cursor: pointer;\n",
       "}\n",
       ".iqx-button {\n",
       "  background-color: #0f62fe; \n",
       "  color: white; \n",
       "}\n",
       ".iqx-button:hover {\n",
       "  background-color: #0043ce;\n",
       "  color: white;\n",
       "}\n",
       "</style>\n",
       "<a href=\"https://stackoverflow.com/search?q=KeyError: (0, 1)\" target='_blank'><button class='button iqx-button'>Search for solution online</button></a>\n"
      ],
      "text/plain": [
       "<IPython.core.display.HTML object>"
      ]
     },
     "metadata": {},
     "output_type": "display_data"
    }
   ],
   "source": [
    "# Making the Hamiltonian in its full form and getting the lowest eigenvalue and eigenvector\n",
    "ee = NumPyMinimumEigensolver()\n",
    "result = ee.compute_minimum_eigenvalue(qubitOp)\n",
    "\n",
    "print(\"energy:\", result.eigenvalue.real)\n",
    "print(\"tsp objective:\", result.eigenvalue.real + offset)\n",
    "x = tsp.sample_most_likely(result.eigenstate)\n",
    "print(\"feasible:\", qubo.is_feasible(x))\n",
    "z = tsp.interpret(x)\n",
    "print(\"solution:\", z)\n",
    "print(\"solution objective:\", tsp.tsp_value(z, G))\n",
    "draw_tsp_solution(tsp.graph, z, colors, pos)"
   ]
  },
  {
   "cell_type": "markdown",
   "metadata": {},
   "source": [
    "### Running it on quantum computer\n",
    "We run the optimization routine using a feedback loop with a quantum computer that uses trial functions built with Y single-qubit rotations, $U_\\mathrm{single}(\\theta) = \\prod_{i=1}^n Y(\\theta_{i})$, and entangler steps $U_\\mathrm{entangler}$."
   ]
  },
  {
   "cell_type": "code",
   "execution_count": 36,
   "metadata": {
    "tags": []
   },
   "outputs": [],
   "source": [
    "algorithm_globals.random_seed = 123\n",
    "seed = 10598"
   ]
  },
  {
   "cell_type": "code",
   "execution_count": 37,
   "metadata": {
    "tags": []
   },
   "outputs": [
    {
     "name": "stdout",
     "output_type": "stream",
     "text": [
      "energy: -7326.02469952184\n",
      "time: 27.482500314712524\n",
      "feasible: True\n",
      "solution: [1, 2, 0]\n",
      "solution objective: 22.0\n"
     ]
    },
    {
     "data": {
      "image/png": "[encoded data removed]",
      "text/plain": [
       "<Figure size 640x480 with 1 Axes>"
      ]
     },
     "metadata": {},
     "output_type": "display_data"
    }
   ],
   "source": [
    "optimizer = SPSA(maxiter=300)\n",
    "ry = TwoLocal(qubitOp.num_qubits, \"ry\", \"cz\", reps=5, entanglement=\"linear\")\n",
    "vqe = SamplingVQE(sampler=Sampler(), ansatz=ry, optimizer=optimizer)\n",
    "\n",
    "result = vqe.compute_minimum_eigenvalue(qubitOp)\n",
    "\n",
    "print(\"energy:\", result.eigenvalue.real)\n",
    "print(\"time:\", result.optimizer_time)\n",
    "x = tsp.sample_most_likely(result.eigenstate)\n",
    "print(\"feasible:\", qubo.is_feasible(x))\n",
    "z = tsp.interpret(x)\n",
    "print(\"solution:\", z)\n",
    "print(\"solution objective:\", tsp.tsp_value(z, adj_matrix))\n",
    "draw_tsp_solution(tsp.graph, z, colors, pos)"
   ]
  },
  {
   "cell_type": "code",
   "execution_count": 38,
   "metadata": {
    "tags": []
   },
   "outputs": [],
   "source": [
    "algorithm_globals.random_seed = 123\n",
    "seed = 10598"
   ]
  },
  {
   "cell_type": "code",
   "execution_count": 39,
   "metadata": {
    "tags": []
   },
   "outputs": [
    {
     "name": "stdout",
     "output_type": "stream",
     "text": [
      "objective function value: 202.0\n",
      "variable values: x_0_0=0.0, x_0_1=0.0, x_0_2=1.0, x_1_0=1.0, x_1_1=0.0, x_1_2=0.0, x_2_0=0.0, x_2_1=1.0, x_2_2=0.0\n",
      "status: SUCCESS\n",
      "solution: [1, 2, 0]\n",
      "solution objective: 22.0\n"
     ]
    },
    {
     "data": {
      "image/png": "[encoded data removed]",
      "text/plain": [
       "<Figure size 640x480 with 1 Axes>"
      ]
     },
     "metadata": {},
     "output_type": "display_data"
    }
   ],
   "source": [
    "# create minimum eigen optimizer based on SamplingVQE\n",
    "vqe_optimizer = MinimumEigenOptimizer(vqe)\n",
    "\n",
    "# solve quadratic program\n",
    "result = vqe_optimizer.solve(qp)\n",
    "print(result.prettyprint())\n",
    "\n",
    "z = tsp.interpret(x)\n",
    "print(\"solution:\", z)\n",
    "print(\"solution objective:\", tsp.tsp_value(z, adj_matrix))\n",
    "draw_tsp_solution(tsp.graph, z, colors, pos)"
   ]
  },
  {
   "cell_type": "code",
   "execution_count": 22,
   "metadata": {},
   "outputs": [
    {
     "data": {
      "text/html": [
       "<h3>Version Information</h3><table><tr><th>Qiskit Software</th><th>Version</th></tr><tr><td><code>qiskit-terra</code></td><td>0.25.0.dev0+1d844ec</td></tr><tr><td><code>qiskit-aer</code></td><td>0.12.0</td></tr><tr><td><code>qiskit-ibmq-provider</code></td><td>0.20.2</td></tr><tr><td><code>qiskit-nature</code></td><td>0.7.0</td></tr><tr><td><code>qiskit-optimization</code></td><td>0.6.0</td></tr><tr><th>System information</th></tr><tr><td>Python version</td><td>3.10.11</td></tr><tr><td>Python compiler</td><td>Clang 14.0.0 (clang-1400.0.29.202)</td></tr><tr><td>Python build</td><td>main, Apr  7 2023 07:31:31</td></tr><tr><td>OS</td><td>Darwin</td></tr><tr><td>CPUs</td><td>4</td></tr><tr><td>Memory (Gb)</td><td>16.0</td></tr><tr><td colspan='2'>Thu May 18 16:57:58 2023 JST</td></tr></table>"
      ],
      "text/plain": [
       "<IPython.core.display.HTML object>"
      ]
     },
     "metadata": {},
     "output_type": "display_data"
    },
    {
     "data": {
      "text/html": [
       "<div style='width: 100%; background-color:#d5d9e0;padding-left: 10px; padding-bottom: 10px; padding-right: 10px; padding-top: 5px'><h3>This code is a part of Qiskit</h3><p>&copy; Copyright IBM 2017, 2023.</p><p>This code is licensed under the Apache License, Version 2.0. You may<br>obtain a copy of this license in the LICENSE.txt file in the root directory<br> of this source tree or at http://www.apache.org/licenses/LICENSE-2.0.<p>Any modifications or derivative works of this code must retain this<br>copyright notice, and modified files need to carry a notice indicating<br>that they have been altered from the originals.</p></div>"
      ],
      "text/plain": [
       "<IPython.core.display.HTML object>"
      ]
     },
     "metadata": {},
     "output_type": "display_data"
    }
   ],
   "source": [
    "import tutorial_magics\n",
    "\n",
    "%qiskit_version_table\n",
    "%qiskit_copyright"
   ]
  },
  {
   "cell_type": "code",
   "execution_count": null,
   "metadata": {},
   "outputs": [],
   "source": []
  }
 ],
 "metadata": {
  "kernelspec": {
   "display_name": "Qiskit v1.0.2 (ipykernel)",
   "language": "python",
   "name": "python3"
  },
  "language_info": {
   "codemirror_mode": {
    "name": "ipython",
    "version": 3
   },
   "file_extension": ".py",
   "mimetype": "text/x-python",
   "name": "python",
   "nbconvert_exporter": "python",
   "pygments_lexer": "ipython3",
   "version": "3.10.8"
  },
  "widgets": {
   "application/vnd.jupyter.widget-state+json": {
    "state": {},
    "version_major": 2,
    "version_minor": 0
   }
  }
 },
 "nbformat": 4,
 "nbformat_minor": 4
}
